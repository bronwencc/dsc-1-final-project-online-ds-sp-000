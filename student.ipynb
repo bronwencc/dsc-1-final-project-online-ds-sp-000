{
 "cells": [
  {
   "cell_type": "markdown",
   "metadata": {},
   "source": [
    "# Final Project Submission\n",
    "\n",
    "Please fill out:\n",
    "* Student name: Bronwen Cohn-Cort\n",
    "* Student pace: self-paced\n",
    "* Scheduled project review date/time: Nov. 1 9-10 AM Eastern US\n",
    "* Instructor name: Eli\n"
   ]
  },
  {
   "cell_type": "markdown",
   "metadata": {},
   "source": [
    "My approach to the project through the OSEMN framework is to look at a few interesting columns on a detailed level and consider which variables from the whole dataset are most needed for a linear regression model to provide meaningful results."
   ]
  },
  {
   "cell_type": "markdown",
   "metadata": {},
   "source": [
    "## Obtain\n",
    "I read in the CSV file and look at the types of data contained within, and some basic qualities of the data."
   ]
  },
  {
   "cell_type": "code",
   "execution_count": 1,
   "metadata": {},
   "outputs": [
    {
     "data": {
      "text/html": [
       "<div>\n",
       "<style scoped>\n",
       "    .dataframe tbody tr th:only-of-type {\n",
       "        vertical-align: middle;\n",
       "    }\n",
       "\n",
       "    .dataframe tbody tr th {\n",
       "        vertical-align: top;\n",
       "    }\n",
       "\n",
       "    .dataframe thead th {\n",
       "        text-align: right;\n",
       "    }\n",
       "</style>\n",
       "<table border=\"1\" class=\"dataframe\">\n",
       "  <thead>\n",
       "    <tr style=\"text-align: right;\">\n",
       "      <th></th>\n",
       "      <th>id</th>\n",
       "      <th>date</th>\n",
       "      <th>price</th>\n",
       "      <th>bedrooms</th>\n",
       "      <th>bathrooms</th>\n",
       "      <th>sqft_living</th>\n",
       "      <th>sqft_lot</th>\n",
       "      <th>floors</th>\n",
       "      <th>waterfront</th>\n",
       "      <th>view</th>\n",
       "      <th>...</th>\n",
       "      <th>grade</th>\n",
       "      <th>sqft_above</th>\n",
       "      <th>sqft_basement</th>\n",
       "      <th>yr_built</th>\n",
       "      <th>yr_renovated</th>\n",
       "      <th>zipcode</th>\n",
       "      <th>lat</th>\n",
       "      <th>long</th>\n",
       "      <th>sqft_living15</th>\n",
       "      <th>sqft_lot15</th>\n",
       "    </tr>\n",
       "  </thead>\n",
       "  <tbody>\n",
       "    <tr>\n",
       "      <th>0</th>\n",
       "      <td>7129300520</td>\n",
       "      <td>10/13/2014</td>\n",
       "      <td>221900.0</td>\n",
       "      <td>3</td>\n",
       "      <td>1.00</td>\n",
       "      <td>1180</td>\n",
       "      <td>5650</td>\n",
       "      <td>1.0</td>\n",
       "      <td>NaN</td>\n",
       "      <td>0.0</td>\n",
       "      <td>...</td>\n",
       "      <td>7</td>\n",
       "      <td>1180</td>\n",
       "      <td>0.0</td>\n",
       "      <td>1955</td>\n",
       "      <td>0.0</td>\n",
       "      <td>98178</td>\n",
       "      <td>47.5112</td>\n",
       "      <td>-122.257</td>\n",
       "      <td>1340</td>\n",
       "      <td>5650</td>\n",
       "    </tr>\n",
       "    <tr>\n",
       "      <th>1</th>\n",
       "      <td>6414100192</td>\n",
       "      <td>12/9/2014</td>\n",
       "      <td>538000.0</td>\n",
       "      <td>3</td>\n",
       "      <td>2.25</td>\n",
       "      <td>2570</td>\n",
       "      <td>7242</td>\n",
       "      <td>2.0</td>\n",
       "      <td>0.0</td>\n",
       "      <td>0.0</td>\n",
       "      <td>...</td>\n",
       "      <td>7</td>\n",
       "      <td>2170</td>\n",
       "      <td>400.0</td>\n",
       "      <td>1951</td>\n",
       "      <td>1991.0</td>\n",
       "      <td>98125</td>\n",
       "      <td>47.7210</td>\n",
       "      <td>-122.319</td>\n",
       "      <td>1690</td>\n",
       "      <td>7639</td>\n",
       "    </tr>\n",
       "    <tr>\n",
       "      <th>2</th>\n",
       "      <td>5631500400</td>\n",
       "      <td>2/25/2015</td>\n",
       "      <td>180000.0</td>\n",
       "      <td>2</td>\n",
       "      <td>1.00</td>\n",
       "      <td>770</td>\n",
       "      <td>10000</td>\n",
       "      <td>1.0</td>\n",
       "      <td>0.0</td>\n",
       "      <td>0.0</td>\n",
       "      <td>...</td>\n",
       "      <td>6</td>\n",
       "      <td>770</td>\n",
       "      <td>0.0</td>\n",
       "      <td>1933</td>\n",
       "      <td>NaN</td>\n",
       "      <td>98028</td>\n",
       "      <td>47.7379</td>\n",
       "      <td>-122.233</td>\n",
       "      <td>2720</td>\n",
       "      <td>8062</td>\n",
       "    </tr>\n",
       "  </tbody>\n",
       "</table>\n",
       "<p>3 rows × 21 columns</p>\n",
       "</div>"
      ],
      "text/plain": [
       "           id        date     price  bedrooms  bathrooms  sqft_living  \\\n",
       "0  7129300520  10/13/2014  221900.0         3       1.00         1180   \n",
       "1  6414100192   12/9/2014  538000.0         3       2.25         2570   \n",
       "2  5631500400   2/25/2015  180000.0         2       1.00          770   \n",
       "\n",
       "   sqft_lot  floors  waterfront  view     ...      grade  sqft_above  \\\n",
       "0      5650     1.0         NaN   0.0     ...          7        1180   \n",
       "1      7242     2.0         0.0   0.0     ...          7        2170   \n",
       "2     10000     1.0         0.0   0.0     ...          6         770   \n",
       "\n",
       "   sqft_basement yr_built  yr_renovated  zipcode      lat     long  \\\n",
       "0            0.0     1955           0.0    98178  47.5112 -122.257   \n",
       "1          400.0     1951        1991.0    98125  47.7210 -122.319   \n",
       "2            0.0     1933           NaN    98028  47.7379 -122.233   \n",
       "\n",
       "   sqft_living15  sqft_lot15  \n",
       "0           1340        5650  \n",
       "1           1690        7639  \n",
       "2           2720        8062  \n",
       "\n",
       "[3 rows x 21 columns]"
      ]
     },
     "execution_count": 1,
     "metadata": {},
     "output_type": "execute_result"
    }
   ],
   "source": [
    "import pandas as pd\n",
    "kc_data = pd.read_csv('kc_house_data.csv')\n",
    "kc_data.head(3)"
   ]
  },
  {
   "cell_type": "code",
   "execution_count": 2,
   "metadata": {},
   "outputs": [
    {
     "name": "stdout",
     "output_type": "stream",
     "text": [
      "<class 'pandas.core.frame.DataFrame'>\n",
      "RangeIndex: 21597 entries, 0 to 21596\n",
      "Data columns (total 21 columns):\n",
      "id               21597 non-null int64\n",
      "date             21597 non-null object\n",
      "price            21597 non-null float64\n",
      "bedrooms         21597 non-null int64\n",
      "bathrooms        21597 non-null float64\n",
      "sqft_living      21597 non-null int64\n",
      "sqft_lot         21597 non-null int64\n",
      "floors           21597 non-null float64\n",
      "waterfront       19221 non-null float64\n",
      "view             21534 non-null float64\n",
      "condition        21597 non-null int64\n",
      "grade            21597 non-null int64\n",
      "sqft_above       21597 non-null int64\n",
      "sqft_basement    21597 non-null object\n",
      "yr_built         21597 non-null int64\n",
      "yr_renovated     17755 non-null float64\n",
      "zipcode          21597 non-null int64\n",
      "lat              21597 non-null float64\n",
      "long             21597 non-null float64\n",
      "sqft_living15    21597 non-null int64\n",
      "sqft_lot15       21597 non-null int64\n",
      "dtypes: float64(8), int64(11), object(2)\n",
      "memory usage: 3.5+ MB\n"
     ]
    }
   ],
   "source": [
    "kc_data.info()"
   ]
  },
  {
   "cell_type": "code",
   "execution_count": 4,
   "metadata": {},
   "outputs": [
    {
     "name": "stdout",
     "output_type": "stream",
     "text": [
      "5\n"
     ]
    },
    {
     "data": {
      "text/plain": [
       "3    14020\n",
       "4     5677\n",
       "5     1701\n",
       "2      170\n",
       "1       29\n",
       "Name: condition, dtype: int64"
      ]
     },
     "execution_count": 4,
     "metadata": {},
     "output_type": "execute_result"
    }
   ],
   "source": [
    "print(kc_data[\"condition\"].nunique())\n",
    "kc_data[\"condition\"].value_counts()"
   ]
  },
  {
   "cell_type": "code",
   "execution_count": 5,
   "metadata": {},
   "outputs": [
    {
     "name": "stdout",
     "output_type": "stream",
     "text": [
      "11\n"
     ]
    },
    {
     "data": {
      "text/plain": [
       "7     8974\n",
       "8     6065\n",
       "9     2615\n",
       "6     2038\n",
       "10    1134\n",
       "11     399\n",
       "5      242\n",
       "12      89\n",
       "4       27\n",
       "13      13\n",
       "3        1\n",
       "Name: grade, dtype: int64"
      ]
     },
     "execution_count": 5,
     "metadata": {},
     "output_type": "execute_result"
    }
   ],
   "source": [
    "print(kc_data[\"grade\"].nunique())\n",
    "kc_data[\"grade\"].value_counts()"
   ]
  },
  {
   "cell_type": "code",
   "execution_count": 7,
   "metadata": {},
   "outputs": [
    {
     "name": "stdout",
     "output_type": "stream",
     "text": [
      "304\n"
     ]
    },
    {
     "data": {
      "text/plain": [
       "0.0      12826\n",
       "?          454\n",
       "600.0      217\n",
       "500.0      209\n",
       "700.0      208\n",
       "Name: sqft_basement, dtype: int64"
      ]
     },
     "execution_count": 7,
     "metadata": {},
     "output_type": "execute_result"
    }
   ],
   "source": [
    "print(kc_data[\"sqft_basement\"].nunique())\n",
    "kc_data[\"sqft_basement\"].value_counts().head()"
   ]
  },
  {
   "cell_type": "code",
   "execution_count": 8,
   "metadata": {},
   "outputs": [
    {
     "name": "stdout",
     "output_type": "stream",
     "text": [
      "5\n"
     ]
    },
    {
     "data": {
      "text/plain": [
       "0.0    19422\n",
       "2.0      957\n",
       "3.0      508\n",
       "1.0      330\n",
       "4.0      317\n",
       "Name: view, dtype: int64"
      ]
     },
     "execution_count": 8,
     "metadata": {},
     "output_type": "execute_result"
    }
   ],
   "source": [
    "print(kc_data[\"view\"].nunique())\n",
    "kc_data[\"view\"].value_counts()"
   ]
  },
  {
   "cell_type": "code",
   "execution_count": 12,
   "metadata": {},
   "outputs": [
    {
     "name": "stdout",
     "output_type": "stream",
     "text": [
      "70\n"
     ]
    },
    {
     "data": {
      "text/plain": [
       "98102    104\n",
       "98010    100\n",
       "98024     80\n",
       "98148     57\n",
       "98039     50\n",
       "Name: zipcode, dtype: int64"
      ]
     },
     "execution_count": 12,
     "metadata": {},
     "output_type": "execute_result"
    }
   ],
   "source": [
    "print(kc_data[\"zipcode\"].nunique())\n",
    "kc_data[\"zipcode\"].value_counts().tail()"
   ]
  },
  {
   "cell_type": "code",
   "execution_count": 15,
   "metadata": {},
   "outputs": [
    {
     "name": "stdout",
     "output_type": "stream",
     "text": [
      "21420\n"
     ]
    },
    {
     "data": {
      "text/plain": [
       "795000620     3\n",
       "1825069031    2\n",
       "2019200220    2\n",
       "7129304540    2\n",
       "1781500435    2\n",
       "Name: id, dtype: int64"
      ]
     },
     "execution_count": 15,
     "metadata": {},
     "output_type": "execute_result"
    }
   ],
   "source": [
    "print(kc_data[\"id\"].nunique())\n",
    "kc_data[\"id\"].value_counts().head()"
   ]
  },
  {
   "cell_type": "code",
   "execution_count": 17,
   "metadata": {},
   "outputs": [
    {
     "name": "stdout",
     "output_type": "stream",
     "text": [
      "70\n"
     ]
    },
    {
     "data": {
      "text/plain": [
       "0.0       17011\n",
       "2014.0       73\n",
       "2003.0       31\n",
       "2013.0       31\n",
       "2007.0       30\n",
       "Name: yr_renovated, dtype: int64"
      ]
     },
     "execution_count": 17,
     "metadata": {},
     "output_type": "execute_result"
    }
   ],
   "source": [
    "print(kc_data[\"yr_renovated\"].nunique())\n",
    "kc_data[\"yr_renovated\"].value_counts().head()"
   ]
  },
  {
   "cell_type": "markdown",
   "metadata": {},
   "source": [
    "## Scrub\n",
    "I change the encoded types, create dummy variables, deal with nonsensical or missing values."
   ]
  },
  {
   "cell_type": "code",
   "execution_count": 10,
   "metadata": {},
   "outputs": [
    {
     "data": {
      "text/plain": [
       "id                  0\n",
       "date                0\n",
       "price               0\n",
       "bedrooms            0\n",
       "bathrooms           0\n",
       "sqft_living         0\n",
       "sqft_lot            0\n",
       "floors              0\n",
       "waterfront       2376\n",
       "view               63\n",
       "condition           0\n",
       "grade               0\n",
       "sqft_above          0\n",
       "sqft_basement       0\n",
       "yr_built            0\n",
       "yr_renovated     3842\n",
       "zipcode             0\n",
       "lat                 0\n",
       "long                0\n",
       "sqft_living15       0\n",
       "sqft_lot15          0\n",
       "dtype: int64"
      ]
     },
     "execution_count": 10,
     "metadata": {},
     "output_type": "execute_result"
    }
   ],
   "source": [
    "kc_data.isna().sum()"
   ]
  },
  {
   "cell_type": "markdown",
   "metadata": {},
   "source": [
    "With `view` and `waterfront` being categorical columns containing several values of 0, null or missing, I will drop both.\n",
    "Similarly, for `sqft_basement`, containing mainly 0 and 454 ? values."
   ]
  },
  {
   "cell_type": "code",
   "execution_count": 13,
   "metadata": {},
   "outputs": [
    {
     "name": "stdout",
     "output_type": "stream",
     "text": [
      "<class 'pandas.core.frame.DataFrame'>\n",
      "RangeIndex: 21597 entries, 0 to 21596\n",
      "Data columns (total 19 columns):\n",
      "id               21597 non-null int64\n",
      "date             21597 non-null object\n",
      "price            21597 non-null float64\n",
      "bedrooms         21597 non-null int64\n",
      "bathrooms        21597 non-null float64\n",
      "sqft_living      21597 non-null int64\n",
      "sqft_lot         21597 non-null int64\n",
      "floors           21597 non-null float64\n",
      "condition        21597 non-null int64\n",
      "grade            21597 non-null int64\n",
      "sqft_above       21597 non-null int64\n",
      "sqft_basement    21597 non-null object\n",
      "yr_built         21597 non-null int64\n",
      "yr_renovated     17755 non-null float64\n",
      "zipcode          21597 non-null int64\n",
      "lat              21597 non-null float64\n",
      "long             21597 non-null float64\n",
      "sqft_living15    21597 non-null int64\n",
      "sqft_lot15       21597 non-null int64\n",
      "dtypes: float64(6), int64(11), object(2)\n",
      "memory usage: 3.1+ MB\n"
     ]
    }
   ],
   "source": [
    "#dropping view, waterfront, sqft_basement\n",
    "drop_vwb = [\"view\",\"waterfront\",\"sqft_basement\"]\n",
    "kc_data.drop(drop_vwb,axis=1,inplace=True)\n",
    "kc_data.info()"
   ]
  },
  {
   "cell_type": "markdown",
   "metadata": {},
   "source": [
    "Now the only column remaining with null values is `yr_renovated`.  Presumably these are newer houses that have never been renovated, but the most common value in the column is 0, which could also indicate a house has not been renovated.\n",
    "With nearly all the values missing or 0, I will also drop the `yr_renovated` column."
   ]
  },
  {
   "cell_type": "code",
   "execution_count": 19,
   "metadata": {},
   "outputs": [
    {
     "data": {
      "text/plain": [
       "id               0\n",
       "date             0\n",
       "price            0\n",
       "bedrooms         0\n",
       "bathrooms        0\n",
       "sqft_living      0\n",
       "sqft_lot         0\n",
       "floors           0\n",
       "condition        0\n",
       "grade            0\n",
       "sqft_above       0\n",
       "sqft_basement    0\n",
       "yr_built         0\n",
       "zipcode          0\n",
       "lat              0\n",
       "long             0\n",
       "sqft_living15    0\n",
       "sqft_lot15       0\n",
       "dtype: int64"
      ]
     },
     "execution_count": 19,
     "metadata": {},
     "output_type": "execute_result"
    }
   ],
   "source": [
    "kc_data.drop(\"yr_renovated\",axis=1, inplace=True)\n",
    "kc_data.isna().sum()"
   ]
  },
  {
   "cell_type": "code",
   "execution_count": 22,
   "metadata": {},
   "outputs": [
    {
     "name": "stdout",
     "output_type": "stream",
     "text": [
      "<class 'pandas.core.frame.DataFrame'>\n",
      "RangeIndex: 21597 entries, 0 to 21596\n",
      "Data columns (total 18 columns):\n",
      "id               21597 non-null object\n",
      "date             21597 non-null datetime64[ns]\n",
      "price            21597 non-null float64\n",
      "bedrooms         21597 non-null int64\n",
      "bathrooms        21597 non-null float64\n",
      "sqft_living      21597 non-null int64\n",
      "sqft_lot         21597 non-null int64\n",
      "floors           21597 non-null float64\n",
      "condition        21597 non-null category\n",
      "grade            21597 non-null category\n",
      "sqft_above       21597 non-null int64\n",
      "sqft_basement    21597 non-null object\n",
      "yr_built         21597 non-null int64\n",
      "zipcode          21597 non-null object\n",
      "lat              21597 non-null float64\n",
      "long             21597 non-null float64\n",
      "sqft_living15    21597 non-null int64\n",
      "sqft_lot15       21597 non-null int64\n",
      "dtypes: category(2), datetime64[ns](1), float64(5), int64(7), object(3)\n",
      "memory usage: 2.7+ MB\n"
     ]
    }
   ],
   "source": [
    "#id, grade, condition and zipcode should not be treated as numbers\n",
    "kc_data[\"id\"]=kc_data[\"id\"].astype(\"str\")\n",
    "kc_data[\"condition\"]=kc_data[\"condition\"].astype(\"category\")\n",
    "kc_data[\"grade\"]=kc_data[\"grade\"].astype(\"category\")\n",
    "kc_data[\"zipcode\"]=kc_data[\"zipcode\"].astype(\"str\")\n",
    "#date should be a datetime object\n",
    "kc_data[\"date\"]=pd.to_datetime(kc_data[\"date\"])\n",
    "kc_data.info()"
   ]
  },
  {
   "cell_type": "code",
   "execution_count": 23,
   "metadata": {},
   "outputs": [
    {
     "data": {
      "text/plain": [
       "177"
      ]
     },
     "execution_count": 23,
     "metadata": {},
     "output_type": "execute_result"
    }
   ],
   "source": [
    "kc_data.id.count()-kc_data.id.nunique()"
   ]
  },
  {
   "cell_type": "markdown",
   "metadata": {},
   "source": [
    "As the `id` column has 177 repeated values, I would like to drop all of them such that I am only considering houses that were sold once within the timespan of the dataset."
   ]
  },
  {
   "cell_type": "code",
   "execution_count": 24,
   "metadata": {},
   "outputs": [
    {
     "data": {
      "text/plain": [
       "795000620     3\n",
       "9353300600    2\n",
       "5430300171    2\n",
       "5536100020    2\n",
       "1231000510    2\n",
       "1219000473    2\n",
       "1788800630    2\n",
       "1423049019    2\n",
       "3969300030    2\n",
       "4139440480    2\n",
       "Name: id, dtype: int64"
      ]
     },
     "execution_count": 24,
     "metadata": {},
     "output_type": "execute_result"
    }
   ],
   "source": [
    "#Looking at the top 10 repeating id's\n",
    "kc_data.id.value_counts().head(10)"
   ]
  },
  {
   "cell_type": "markdown",
   "metadata": {},
   "source": [
    "The id that appears the most appears 3 times, and the second-most appears twice, which means the other repeated id's also appear only twice. I will make a list containing all those indices of id's that repeat."
   ]
  },
  {
   "cell_type": "code",
   "execution_count": 26,
   "metadata": {},
   "outputs": [],
   "source": [
    "id_indices=[]\n",
    "for idx, num in enumerate(kc_data.id):#num is each id in the id column\n",
    "    if idx==21596:\n",
    "        break\n",
    "    elif (num==kc_data.id[idx+1]):\n",
    "        #assuming each repeated id follows the same pattern as the two I already looked at\n",
    "        id_indices.append(idx)\n",
    "        id_indices.append(idx+1)\n",
    "        #a special case for the thrice-repeated id:\n",
    "        if num==kc_data.id[idx+2]:\n",
    "            id_indices.append(idx+2)"
   ]
  },
  {
   "cell_type": "markdown",
   "metadata": {},
   "source": [
    "I will remove all of these rows with the indices contained in `id_indices`."
   ]
  },
  {
   "cell_type": "code",
   "execution_count": 27,
   "metadata": {},
   "outputs": [
    {
     "data": {
      "text/plain": [
       "0"
      ]
     },
     "execution_count": 27,
     "metadata": {},
     "output_type": "execute_result"
    }
   ],
   "source": [
    "kc_data.drop(labels=id_indices,axis=0,inplace=True)\n",
    "#checking there are no repeated id values\n",
    "kc_data.id.count()-kc_data.id.nunique()"
   ]
  },
  {
   "cell_type": "code",
   "execution_count": 28,
   "metadata": {},
   "outputs": [
    {
     "name": "stdout",
     "output_type": "stream",
     "text": [
      "<class 'pandas.core.frame.DataFrame'>\n",
      "Int64Index: 21244 entries, 0 to 21596\n",
      "Data columns (total 18 columns):\n",
      "id               21244 non-null object\n",
      "date             21244 non-null datetime64[ns]\n",
      "price            21244 non-null float64\n",
      "bedrooms         21244 non-null int64\n",
      "bathrooms        21244 non-null float64\n",
      "sqft_living      21244 non-null int64\n",
      "sqft_lot         21244 non-null int64\n",
      "floors           21244 non-null float64\n",
      "condition        21244 non-null category\n",
      "grade            21244 non-null category\n",
      "sqft_above       21244 non-null int64\n",
      "sqft_basement    21244 non-null object\n",
      "yr_built         21244 non-null int64\n",
      "zipcode          21244 non-null object\n",
      "lat              21244 non-null float64\n",
      "long             21244 non-null float64\n",
      "sqft_living15    21244 non-null int64\n",
      "sqft_lot15       21244 non-null int64\n",
      "dtypes: category(2), datetime64[ns](1), float64(5), int64(7), object(3)\n",
      "memory usage: 2.8+ MB\n"
     ]
    }
   ],
   "source": [
    "kc_data.info()"
   ]
  },
  {
   "cell_type": "code",
   "execution_count": 29,
   "metadata": {},
   "outputs": [
    {
     "data": {
      "text/html": [
       "<div>\n",
       "<style scoped>\n",
       "    .dataframe tbody tr th:only-of-type {\n",
       "        vertical-align: middle;\n",
       "    }\n",
       "\n",
       "    .dataframe tbody tr th {\n",
       "        vertical-align: top;\n",
       "    }\n",
       "\n",
       "    .dataframe thead th {\n",
       "        text-align: right;\n",
       "    }\n",
       "</style>\n",
       "<table border=\"1\" class=\"dataframe\">\n",
       "  <thead>\n",
       "    <tr style=\"text-align: right;\">\n",
       "      <th></th>\n",
       "      <th>price</th>\n",
       "      <th>bedrooms</th>\n",
       "      <th>bathrooms</th>\n",
       "      <th>sqft_living</th>\n",
       "      <th>sqft_lot</th>\n",
       "      <th>floors</th>\n",
       "      <th>sqft_above</th>\n",
       "      <th>yr_built</th>\n",
       "      <th>lat</th>\n",
       "      <th>long</th>\n",
       "      <th>sqft_living15</th>\n",
       "      <th>sqft_lot15</th>\n",
       "    </tr>\n",
       "  </thead>\n",
       "  <tbody>\n",
       "    <tr>\n",
       "      <th>count</th>\n",
       "      <td>2.124400e+04</td>\n",
       "      <td>21244.000000</td>\n",
       "      <td>21244.000000</td>\n",
       "      <td>21244.000000</td>\n",
       "      <td>2.124400e+04</td>\n",
       "      <td>21244.000000</td>\n",
       "      <td>21244.000000</td>\n",
       "      <td>21244.000000</td>\n",
       "      <td>21244.000000</td>\n",
       "      <td>21244.000000</td>\n",
       "      <td>21244.000000</td>\n",
       "      <td>21244.000000</td>\n",
       "    </tr>\n",
       "    <tr>\n",
       "      <th>mean</th>\n",
       "      <td>5.423012e+05</td>\n",
       "      <td>3.374694</td>\n",
       "      <td>2.121022</td>\n",
       "      <td>2085.942902</td>\n",
       "      <td>1.515673e+04</td>\n",
       "      <td>1.497882</td>\n",
       "      <td>1793.752871</td>\n",
       "      <td>1971.186876</td>\n",
       "      <td>47.560301</td>\n",
       "      <td>-122.213587</td>\n",
       "      <td>1990.133920</td>\n",
       "      <td>12793.135332</td>\n",
       "    </tr>\n",
       "    <tr>\n",
       "      <th>std</th>\n",
       "      <td>3.681265e+05</td>\n",
       "      <td>0.924476</td>\n",
       "      <td>0.768462</td>\n",
       "      <td>919.517305</td>\n",
       "      <td>4.164963e+04</td>\n",
       "      <td>0.540477</td>\n",
       "      <td>829.627388</td>\n",
       "      <td>29.398604</td>\n",
       "      <td>0.138625</td>\n",
       "      <td>0.140857</td>\n",
       "      <td>685.856874</td>\n",
       "      <td>27417.178614</td>\n",
       "    </tr>\n",
       "    <tr>\n",
       "      <th>min</th>\n",
       "      <td>7.800000e+04</td>\n",
       "      <td>1.000000</td>\n",
       "      <td>0.500000</td>\n",
       "      <td>370.000000</td>\n",
       "      <td>5.200000e+02</td>\n",
       "      <td>1.000000</td>\n",
       "      <td>370.000000</td>\n",
       "      <td>1900.000000</td>\n",
       "      <td>47.155900</td>\n",
       "      <td>-122.519000</td>\n",
       "      <td>399.000000</td>\n",
       "      <td>651.000000</td>\n",
       "    </tr>\n",
       "    <tr>\n",
       "      <th>25%</th>\n",
       "      <td>3.249500e+05</td>\n",
       "      <td>3.000000</td>\n",
       "      <td>1.750000</td>\n",
       "      <td>1430.000000</td>\n",
       "      <td>5.040000e+03</td>\n",
       "      <td>1.000000</td>\n",
       "      <td>1200.000000</td>\n",
       "      <td>1952.000000</td>\n",
       "      <td>47.471375</td>\n",
       "      <td>-122.328000</td>\n",
       "      <td>1490.000000</td>\n",
       "      <td>5100.000000</td>\n",
       "    </tr>\n",
       "    <tr>\n",
       "      <th>50%</th>\n",
       "      <td>4.510000e+05</td>\n",
       "      <td>3.000000</td>\n",
       "      <td>2.250000</td>\n",
       "      <td>1920.000000</td>\n",
       "      <td>7.606000e+03</td>\n",
       "      <td>1.500000</td>\n",
       "      <td>1570.000000</td>\n",
       "      <td>1975.000000</td>\n",
       "      <td>47.572500</td>\n",
       "      <td>-122.229000</td>\n",
       "      <td>1840.000000</td>\n",
       "      <td>7620.000000</td>\n",
       "    </tr>\n",
       "    <tr>\n",
       "      <th>75%</th>\n",
       "      <td>6.471250e+05</td>\n",
       "      <td>4.000000</td>\n",
       "      <td>2.500000</td>\n",
       "      <td>2557.750000</td>\n",
       "      <td>1.069725e+04</td>\n",
       "      <td>2.000000</td>\n",
       "      <td>2220.000000</td>\n",
       "      <td>1997.000000</td>\n",
       "      <td>47.678100</td>\n",
       "      <td>-122.124000</td>\n",
       "      <td>2370.000000</td>\n",
       "      <td>10089.000000</td>\n",
       "    </tr>\n",
       "    <tr>\n",
       "      <th>max</th>\n",
       "      <td>7.700000e+06</td>\n",
       "      <td>33.000000</td>\n",
       "      <td>8.000000</td>\n",
       "      <td>13540.000000</td>\n",
       "      <td>1.651359e+06</td>\n",
       "      <td>3.500000</td>\n",
       "      <td>9410.000000</td>\n",
       "      <td>2015.000000</td>\n",
       "      <td>47.777600</td>\n",
       "      <td>-121.315000</td>\n",
       "      <td>6210.000000</td>\n",
       "      <td>871200.000000</td>\n",
       "    </tr>\n",
       "  </tbody>\n",
       "</table>\n",
       "</div>"
      ],
      "text/plain": [
       "              price      bedrooms     bathrooms   sqft_living      sqft_lot  \\\n",
       "count  2.124400e+04  21244.000000  21244.000000  21244.000000  2.124400e+04   \n",
       "mean   5.423012e+05      3.374694      2.121022   2085.942902  1.515673e+04   \n",
       "std    3.681265e+05      0.924476      0.768462    919.517305  4.164963e+04   \n",
       "min    7.800000e+04      1.000000      0.500000    370.000000  5.200000e+02   \n",
       "25%    3.249500e+05      3.000000      1.750000   1430.000000  5.040000e+03   \n",
       "50%    4.510000e+05      3.000000      2.250000   1920.000000  7.606000e+03   \n",
       "75%    6.471250e+05      4.000000      2.500000   2557.750000  1.069725e+04   \n",
       "max    7.700000e+06     33.000000      8.000000  13540.000000  1.651359e+06   \n",
       "\n",
       "             floors    sqft_above      yr_built           lat          long  \\\n",
       "count  21244.000000  21244.000000  21244.000000  21244.000000  21244.000000   \n",
       "mean       1.497882   1793.752871   1971.186876     47.560301   -122.213587   \n",
       "std        0.540477    829.627388     29.398604      0.138625      0.140857   \n",
       "min        1.000000    370.000000   1900.000000     47.155900   -122.519000   \n",
       "25%        1.000000   1200.000000   1952.000000     47.471375   -122.328000   \n",
       "50%        1.500000   1570.000000   1975.000000     47.572500   -122.229000   \n",
       "75%        2.000000   2220.000000   1997.000000     47.678100   -122.124000   \n",
       "max        3.500000   9410.000000   2015.000000     47.777600   -121.315000   \n",
       "\n",
       "       sqft_living15     sqft_lot15  \n",
       "count   21244.000000   21244.000000  \n",
       "mean     1990.133920   12793.135332  \n",
       "std       685.856874   27417.178614  \n",
       "min       399.000000     651.000000  \n",
       "25%      1490.000000    5100.000000  \n",
       "50%      1840.000000    7620.000000  \n",
       "75%      2370.000000   10089.000000  \n",
       "max      6210.000000  871200.000000  "
      ]
     },
     "execution_count": 29,
     "metadata": {},
     "output_type": "execute_result"
    }
   ],
   "source": [
    "kc_data.describe()"
   ]
  },
  {
   "cell_type": "markdown",
   "metadata": {},
   "source": [
    "## Explore\n",
    "I look at histograms, scatter plots, and check for multicollinearity and see which potential predictors for price might need to be normalized, transformed, binned, or are highly correlated."
   ]
  },
  {
   "cell_type": "markdown",
   "metadata": {},
   "source": [
    "### Normality"
   ]
  },
  {
   "cell_type": "code",
   "execution_count": 38,
   "metadata": {},
   "outputs": [
    {
     "data": {
      "text/plain": [
       "<Figure size 864x1080 with 0 Axes>"
      ]
     },
     "metadata": {},
     "output_type": "display_data"
    },
    {
     "data": {
      "image/png": "[encoded data removed]",
      "text/plain": [
       "<Figure size 576x396 with 12 Axes>"
      ]
     },
     "metadata": {},
     "output_type": "display_data"
    }
   ],
   "source": [
    "import matplotlib.pyplot as plt\n",
    "%matplotlib inline\n",
    "#looking at histograms for all columns\n",
    "plt.style.use(\"seaborn\")\n",
    "plt.figure(figsize=(12,15))\n",
    "kc_data.hist()\n",
    "plt.show()"
   ]
  },
  {
   "cell_type": "markdown",
   "metadata": {},
   "source": [
    "`yr_built` and `lat` appear to be right-skewed.\n",
    "`long`, `sqft_above` and `sqft_living15` look similarly left-skewed.\n",
    "`sqft_lot`, `sqft_lot15`, `price`, and `bedrooms` are highly left-skewed and have high kurtosis.\n",
    "`bathrooms` also has high kurtosis, but is not far from a normal distribution."
   ]
  },
  {
   "cell_type": "markdown",
   "metadata": {},
   "source": [
    "### Linearity\n",
    "\n",
    "I will now look at scatterplots to get a sense of the linearity of the columns."
   ]
  },
  {
   "cell_type": "code",
   "execution_count": 42,
   "metadata": {},
   "outputs": [
    {
     "data": {
      "image/png": "[encoded data removed]",
      "text/plain": [
       "<Figure size 216x216 with 1 Axes>"
      ]
     },
     "metadata": {},
     "output_type": "display_data"
    },
    {
     "data": {
      "image/png": "[encoded data removed]",
      "text/plain": [
       "<Figure size 216x216 with 1 Axes>"
      ]
     },
     "metadata": {},
     "output_type": "display_data"
    },
    {
     "data": {
      "image/png": "[encoded data removed]",
      "text/plain": [
       "<Figure size 216x216 with 1 Axes>"
      ]
     },
     "metadata": {},
     "output_type": "display_data"
    },
    {
     "data": {
      "image/png": "[encoded data removed]",
      "text/plain": [
       "<Figure size 216x216 with 1 Axes>"
      ]
     },
     "metadata": {},
     "output_type": "display_data"
    },
    {
     "data": {
      "image/png": "[encoded data removed]",
      "text/plain": [
       "<Figure size 216x216 with 1 Axes>"
      ]
     },
     "metadata": {},
     "output_type": "display_data"
    },
    {
     "data": {
      "image/png": "[encoded data removed]",
      "text/plain": [
       "<Figure size 216x216 with 1 Axes>"
      ]
     },
     "metadata": {},
     "output_type": "display_data"
    },
    {
     "data": {
      "image/png": "[encoded data removed]",
      "text/plain": [
       "<Figure size 216x216 with 1 Axes>"
      ]
     },
     "metadata": {},
     "output_type": "display_data"
    },
    {
     "data": {
      "image/png": "[encoded data removed]",
      "text/plain": [
       "<Figure size 216x216 with 1 Axes>"
      ]
     },
     "metadata": {},
     "output_type": "display_data"
    },
    {
     "data": {
      "image/png": "[encoded data removed]",
      "text/plain": [
       "<Figure size 216x216 with 1 Axes>"
      ]
     },
     "metadata": {},
     "output_type": "display_data"
    },
    {
     "data": {
      "image/png": "[encoded data removed]",
      "text/plain": [
       "<Figure size 216x216 with 1 Axes>"
      ]
     },
     "metadata": {},
     "output_type": "display_data"
    },
    {
     "data": {
      "image/png": "[encoded data removed]",
      "text/plain": [
       "<Figure size 216x216 with 1 Axes>"
      ]
     },
     "metadata": {},
     "output_type": "display_data"
    }
   ],
   "source": [
    "#creating a list of only the numeric values\n",
    "cols = ['bedrooms','bathrooms','sqft_living', 'sqft_lot', 'floors', 'sqft_above',\n",
    " 'yr_built', 'lat', 'long', 'sqft_living15', 'sqft_lot15']\n",
    "for col_name in cols:\n",
    "    plt.figure(figsize=(3,3))\n",
    "    plt.scatter(kc_data[col_name], kc_data[\"price\"],label=col_name)\n",
    "    plt.legend()\n",
    "    plt.show()"
   ]
  },
  {
   "cell_type": "markdown",
   "metadata": {},
   "source": [
    "Could be negatively correlated: `long`\n",
    "\n",
    "Could be positively correlated, except for outliers: `bedrooms`,`lat`\n",
    "\n",
    "Looks positively correlated, with some outliers: `bathrooms`, `sqft_living`, `sqft_above`,`sqft_living15`\n",
    "\n",
    "Does not appear to have a linear relationship: `sqft_lot`, `yr_built`, `sqft_lot15`\n",
    "\n",
    "Appears categorical: `floors`"
   ]
  },
  {
   "cell_type": "markdown",
   "metadata": {},
   "source": [
    "### Multicollinearity\n",
    "I will now determine to what degree values are correlated with each other."
   ]
  },
  {
   "cell_type": "code",
   "execution_count": 43,
   "metadata": {},
   "outputs": [
    {
     "data": {
      "text/html": [
       "<div>\n",
       "<style scoped>\n",
       "    .dataframe tbody tr th:only-of-type {\n",
       "        vertical-align: middle;\n",
       "    }\n",
       "\n",
       "    .dataframe tbody tr th {\n",
       "        vertical-align: top;\n",
       "    }\n",
       "\n",
       "    .dataframe thead th {\n",
       "        text-align: right;\n",
       "    }\n",
       "</style>\n",
       "<table border=\"1\" class=\"dataframe\">\n",
       "  <thead>\n",
       "    <tr style=\"text-align: right;\">\n",
       "      <th></th>\n",
       "      <th>bedrooms</th>\n",
       "      <th>bathrooms</th>\n",
       "      <th>sqft_living</th>\n",
       "      <th>sqft_lot</th>\n",
       "      <th>floors</th>\n",
       "      <th>sqft_above</th>\n",
       "      <th>yr_built</th>\n",
       "      <th>lat</th>\n",
       "      <th>long</th>\n",
       "      <th>sqft_living15</th>\n",
       "      <th>sqft_lot15</th>\n",
       "    </tr>\n",
       "  </thead>\n",
       "  <tbody>\n",
       "    <tr>\n",
       "      <th>bedrooms</th>\n",
       "      <td>True</td>\n",
       "      <td>False</td>\n",
       "      <td>False</td>\n",
       "      <td>False</td>\n",
       "      <td>False</td>\n",
       "      <td>False</td>\n",
       "      <td>False</td>\n",
       "      <td>False</td>\n",
       "      <td>False</td>\n",
       "      <td>False</td>\n",
       "      <td>False</td>\n",
       "    </tr>\n",
       "    <tr>\n",
       "      <th>bathrooms</th>\n",
       "      <td>False</td>\n",
       "      <td>True</td>\n",
       "      <td>True</td>\n",
       "      <td>False</td>\n",
       "      <td>False</td>\n",
       "      <td>False</td>\n",
       "      <td>False</td>\n",
       "      <td>False</td>\n",
       "      <td>False</td>\n",
       "      <td>False</td>\n",
       "      <td>False</td>\n",
       "    </tr>\n",
       "    <tr>\n",
       "      <th>sqft_living</th>\n",
       "      <td>False</td>\n",
       "      <td>True</td>\n",
       "      <td>True</td>\n",
       "      <td>False</td>\n",
       "      <td>False</td>\n",
       "      <td>True</td>\n",
       "      <td>False</td>\n",
       "      <td>False</td>\n",
       "      <td>False</td>\n",
       "      <td>True</td>\n",
       "      <td>False</td>\n",
       "    </tr>\n",
       "    <tr>\n",
       "      <th>sqft_lot</th>\n",
       "      <td>False</td>\n",
       "      <td>False</td>\n",
       "      <td>False</td>\n",
       "      <td>True</td>\n",
       "      <td>False</td>\n",
       "      <td>False</td>\n",
       "      <td>False</td>\n",
       "      <td>False</td>\n",
       "      <td>False</td>\n",
       "      <td>False</td>\n",
       "      <td>False</td>\n",
       "    </tr>\n",
       "    <tr>\n",
       "      <th>floors</th>\n",
       "      <td>False</td>\n",
       "      <td>False</td>\n",
       "      <td>False</td>\n",
       "      <td>False</td>\n",
       "      <td>True</td>\n",
       "      <td>False</td>\n",
       "      <td>False</td>\n",
       "      <td>False</td>\n",
       "      <td>False</td>\n",
       "      <td>False</td>\n",
       "      <td>False</td>\n",
       "    </tr>\n",
       "    <tr>\n",
       "      <th>sqft_above</th>\n",
       "      <td>False</td>\n",
       "      <td>False</td>\n",
       "      <td>True</td>\n",
       "      <td>False</td>\n",
       "      <td>False</td>\n",
       "      <td>True</td>\n",
       "      <td>False</td>\n",
       "      <td>False</td>\n",
       "      <td>False</td>\n",
       "      <td>False</td>\n",
       "      <td>False</td>\n",
       "    </tr>\n",
       "    <tr>\n",
       "      <th>yr_built</th>\n",
       "      <td>False</td>\n",
       "      <td>False</td>\n",
       "      <td>False</td>\n",
       "      <td>False</td>\n",
       "      <td>False</td>\n",
       "      <td>False</td>\n",
       "      <td>True</td>\n",
       "      <td>False</td>\n",
       "      <td>False</td>\n",
       "      <td>False</td>\n",
       "      <td>False</td>\n",
       "    </tr>\n",
       "    <tr>\n",
       "      <th>lat</th>\n",
       "      <td>False</td>\n",
       "      <td>False</td>\n",
       "      <td>False</td>\n",
       "      <td>False</td>\n",
       "      <td>False</td>\n",
       "      <td>False</td>\n",
       "      <td>False</td>\n",
       "      <td>True</td>\n",
       "      <td>False</td>\n",
       "      <td>False</td>\n",
       "      <td>False</td>\n",
       "    </tr>\n",
       "    <tr>\n",
       "      <th>long</th>\n",
       "      <td>False</td>\n",
       "      <td>False</td>\n",
       "      <td>False</td>\n",
       "      <td>False</td>\n",
       "      <td>False</td>\n",
       "      <td>False</td>\n",
       "      <td>False</td>\n",
       "      <td>False</td>\n",
       "      <td>True</td>\n",
       "      <td>False</td>\n",
       "      <td>False</td>\n",
       "    </tr>\n",
       "    <tr>\n",
       "      <th>sqft_living15</th>\n",
       "      <td>False</td>\n",
       "      <td>False</td>\n",
       "      <td>True</td>\n",
       "      <td>False</td>\n",
       "      <td>False</td>\n",
       "      <td>False</td>\n",
       "      <td>False</td>\n",
       "      <td>False</td>\n",
       "      <td>False</td>\n",
       "      <td>True</td>\n",
       "      <td>False</td>\n",
       "    </tr>\n",
       "    <tr>\n",
       "      <th>sqft_lot15</th>\n",
       "      <td>False</td>\n",
       "      <td>False</td>\n",
       "      <td>False</td>\n",
       "      <td>False</td>\n",
       "      <td>False</td>\n",
       "      <td>False</td>\n",
       "      <td>False</td>\n",
       "      <td>False</td>\n",
       "      <td>False</td>\n",
       "      <td>False</td>\n",
       "      <td>True</td>\n",
       "    </tr>\n",
       "  </tbody>\n",
       "</table>\n",
       "</div>"
      ],
      "text/plain": [
       "               bedrooms  bathrooms  sqft_living  sqft_lot  floors  sqft_above  \\\n",
       "bedrooms           True      False        False     False   False       False   \n",
       "bathrooms         False       True         True     False   False       False   \n",
       "sqft_living       False       True         True     False   False        True   \n",
       "sqft_lot          False      False        False      True   False       False   \n",
       "floors            False      False        False     False    True       False   \n",
       "sqft_above        False      False         True     False   False        True   \n",
       "yr_built          False      False        False     False   False       False   \n",
       "lat               False      False        False     False   False       False   \n",
       "long              False      False        False     False   False       False   \n",
       "sqft_living15     False      False         True     False   False       False   \n",
       "sqft_lot15        False      False        False     False   False       False   \n",
       "\n",
       "               yr_built    lat   long  sqft_living15  sqft_lot15  \n",
       "bedrooms          False  False  False          False       False  \n",
       "bathrooms         False  False  False          False       False  \n",
       "sqft_living       False  False  False           True       False  \n",
       "sqft_lot          False  False  False          False       False  \n",
       "floors            False  False  False          False       False  \n",
       "sqft_above        False  False  False          False       False  \n",
       "yr_built           True  False  False          False       False  \n",
       "lat               False   True  False          False       False  \n",
       "long              False  False   True          False       False  \n",
       "sqft_living15     False  False  False           True       False  \n",
       "sqft_lot15        False  False  False          False        True  "
      ]
     },
     "execution_count": 43,
     "metadata": {},
     "output_type": "execute_result"
    }
   ],
   "source": [
    "import seaborn as sns\n",
    "#if the absolute value of a correlation is more than .75, it is considered highly correlated\n",
    "abs(kc_data.drop(\"price\",axis=1).corr())>.75"
   ]
  },
  {
   "cell_type": "markdown",
   "metadata": {},
   "source": [
    "The \"True\" values appear to be for `sqft_living` vs. `bathrooms`, `sqft_above` vs. `sqft_living` and `sqft_living` vs. `sqft_living15`.  As `sqft_living` is the value that appears to be highly correlated with three other variables, I will drop it in the next Scrub step."
   ]
  },
  {
   "cell_type": "markdown",
   "metadata": {},
   "source": [
    "### Conclusion of Explore Step:\n",
    "- Drop the highly correlated `sqft_living` column\n",
    "- Also drop the non-linear `sqft_lot`, `yr_built`, and `sqft_lot15`\n",
    "- Change the `floors` variable to be categorical\n",
    "- Reduce the skewness of `lat`, `long`, `sqft_above`, and `sqft_living15`\n",
    "- Reduce the kurtosis and skew of `price`, `bedrooms`, and `bathrooms`\n",
    "- Handle outliers from `bedrooms`, `lat`, `bathrooms`, `sqft_above`, and `sqft_living15`"
   ]
  },
  {
   "cell_type": "markdown",
   "metadata": {},
   "source": [
    "### Question: How does the price vary with the date?\n",
    "`date` is not shown on these plots, as it is an object.  I expect that houses may have different selling prices over the course of a year.\n",
    "\n",
    "In the next Scrub step, I will add a column for day_of_year (1 to 365) to see in the subsequent Explore step how well it could predict house prices."
   ]
  },
  {
   "cell_type": "markdown",
   "metadata": {},
   "source": [
    "## Scrub 2\n",
    "In the second go-around after looking at some visualizations, I wil one-hot encode categorical dummy columns, normalize data, remove outliers and drop columns that would not help a regression model."
   ]
  },
  {
   "cell_type": "code",
   "execution_count": 44,
   "metadata": {},
   "outputs": [
    {
     "data": {
      "text/html": [
       "<div>\n",
       "<style scoped>\n",
       "    .dataframe tbody tr th:only-of-type {\n",
       "        vertical-align: middle;\n",
       "    }\n",
       "\n",
       "    .dataframe tbody tr th {\n",
       "        vertical-align: top;\n",
       "    }\n",
       "\n",
       "    .dataframe thead th {\n",
       "        text-align: right;\n",
       "    }\n",
       "</style>\n",
       "<table border=\"1\" class=\"dataframe\">\n",
       "  <thead>\n",
       "    <tr style=\"text-align: right;\">\n",
       "      <th></th>\n",
       "      <th>id</th>\n",
       "      <th>date</th>\n",
       "      <th>price</th>\n",
       "      <th>bedrooms</th>\n",
       "      <th>bathrooms</th>\n",
       "      <th>floors</th>\n",
       "      <th>condition</th>\n",
       "      <th>grade</th>\n",
       "      <th>sqft_above</th>\n",
       "      <th>zipcode</th>\n",
       "      <th>lat</th>\n",
       "      <th>long</th>\n",
       "      <th>sqft_living15</th>\n",
       "    </tr>\n",
       "  </thead>\n",
       "  <tbody>\n",
       "    <tr>\n",
       "      <th>0</th>\n",
       "      <td>7129300520</td>\n",
       "      <td>2014-10-13</td>\n",
       "      <td>221900.0</td>\n",
       "      <td>3</td>\n",
       "      <td>1.00</td>\n",
       "      <td>1.0</td>\n",
       "      <td>3</td>\n",
       "      <td>7</td>\n",
       "      <td>1180</td>\n",
       "      <td>98178</td>\n",
       "      <td>47.5112</td>\n",
       "      <td>-122.257</td>\n",
       "      <td>1340</td>\n",
       "    </tr>\n",
       "    <tr>\n",
       "      <th>1</th>\n",
       "      <td>6414100192</td>\n",
       "      <td>2014-12-09</td>\n",
       "      <td>538000.0</td>\n",
       "      <td>3</td>\n",
       "      <td>2.25</td>\n",
       "      <td>2.0</td>\n",
       "      <td>3</td>\n",
       "      <td>7</td>\n",
       "      <td>2170</td>\n",
       "      <td>98125</td>\n",
       "      <td>47.7210</td>\n",
       "      <td>-122.319</td>\n",
       "      <td>1690</td>\n",
       "    </tr>\n",
       "    <tr>\n",
       "      <th>2</th>\n",
       "      <td>5631500400</td>\n",
       "      <td>2015-02-25</td>\n",
       "      <td>180000.0</td>\n",
       "      <td>2</td>\n",
       "      <td>1.00</td>\n",
       "      <td>1.0</td>\n",
       "      <td>3</td>\n",
       "      <td>6</td>\n",
       "      <td>770</td>\n",
       "      <td>98028</td>\n",
       "      <td>47.7379</td>\n",
       "      <td>-122.233</td>\n",
       "      <td>2720</td>\n",
       "    </tr>\n",
       "  </tbody>\n",
       "</table>\n",
       "</div>"
      ],
      "text/plain": [
       "           id       date     price  bedrooms  bathrooms  floors condition  \\\n",
       "0  7129300520 2014-10-13  221900.0         3       1.00     1.0         3   \n",
       "1  6414100192 2014-12-09  538000.0         3       2.25     2.0         3   \n",
       "2  5631500400 2015-02-25  180000.0         2       1.00     1.0         3   \n",
       "\n",
       "  grade  sqft_above zipcode      lat     long  sqft_living15  \n",
       "0     7        1180   98178  47.5112 -122.257           1340  \n",
       "1     7        2170   98125  47.7210 -122.319           1690  \n",
       "2     6         770   98028  47.7379 -122.233           2720  "
      ]
     },
     "execution_count": 44,
     "metadata": {},
     "output_type": "execute_result"
    }
   ],
   "source": [
    "#drop highly-correlated and likely non-linear columns\n",
    "drop_lotlivb=[\"sqft_living\",\"sqft_lot\",\"yr_built\",\"sqft_lot15\"]\n",
    "pred_df=kc_data.drop(drop_lotlivb,axis=1)\n",
    "pred_df.head(3)"
   ]
  },
  {
   "cell_type": "code",
   "execution_count": 46,
   "metadata": {},
   "outputs": [
    {
     "name": "stdout",
     "output_type": "stream",
     "text": [
      "<class 'pandas.core.frame.DataFrame'>\n",
      "Int64Index: 21244 entries, 0 to 21596\n",
      "Data columns (total 13 columns):\n",
      "id               21244 non-null object\n",
      "date             21244 non-null datetime64[ns]\n",
      "price            21244 non-null float64\n",
      "bedrooms         21244 non-null int64\n",
      "bathrooms        21244 non-null float64\n",
      "floors           21244 non-null category\n",
      "condition        21244 non-null category\n",
      "grade            21244 non-null category\n",
      "sqft_above       21244 non-null int64\n",
      "zipcode          21244 non-null object\n",
      "lat              21244 non-null float64\n",
      "long             21244 non-null float64\n",
      "sqft_living15    21244 non-null int64\n",
      "dtypes: category(3), datetime64[ns](1), float64(4), int64(3), object(2)\n",
      "memory usage: 1.8+ MB\n"
     ]
    }
   ],
   "source": [
    "#change floors to be categorical\n",
    "pred_df[\"floors\"]=pred_df[\"floors\"].astype(\"category\")\n",
    "pred_df.info()"
   ]
  },
  {
   "cell_type": "markdown",
   "metadata": {},
   "source": [
    "#### Log Transformations and Normalizations"
   ]
  },
  {
   "cell_type": "markdown",
   "metadata": {},
   "source": [
    "The skewness in `lat`, `long`,`sqft_living15`, `sqft_above`, `price`, `bedrooms`, and `bathrooms` can be reduced by using a log transformation."
   ]
  },
  {
   "cell_type": "code",
   "execution_count": 55,
   "metadata": {},
   "outputs": [
    {
     "data": {
      "text/html": [
       "<div>\n",
       "<style scoped>\n",
       "    .dataframe tbody tr th:only-of-type {\n",
       "        vertical-align: middle;\n",
       "    }\n",
       "\n",
       "    .dataframe tbody tr th {\n",
       "        vertical-align: top;\n",
       "    }\n",
       "\n",
       "    .dataframe thead th {\n",
       "        text-align: right;\n",
       "    }\n",
       "</style>\n",
       "<table border=\"1\" class=\"dataframe\">\n",
       "  <thead>\n",
       "    <tr style=\"text-align: right;\">\n",
       "      <th></th>\n",
       "      <th>price</th>\n",
       "      <th>bedrooms</th>\n",
       "      <th>bathrooms</th>\n",
       "      <th>sqft_above</th>\n",
       "      <th>lat</th>\n",
       "      <th>long</th>\n",
       "      <th>sqft_living15</th>\n",
       "    </tr>\n",
       "  </thead>\n",
       "  <tbody>\n",
       "    <tr>\n",
       "      <th>count</th>\n",
       "      <td>2.124400e+04</td>\n",
       "      <td>21244.000000</td>\n",
       "      <td>21244.000000</td>\n",
       "      <td>21244.000000</td>\n",
       "      <td>21244.000000</td>\n",
       "      <td>21244.000000</td>\n",
       "      <td>21244.000000</td>\n",
       "    </tr>\n",
       "    <tr>\n",
       "      <th>mean</th>\n",
       "      <td>5.423012e+05</td>\n",
       "      <td>3.374694</td>\n",
       "      <td>2.121022</td>\n",
       "      <td>1793.752871</td>\n",
       "      <td>47.560301</td>\n",
       "      <td>122.213587</td>\n",
       "      <td>1990.133920</td>\n",
       "    </tr>\n",
       "    <tr>\n",
       "      <th>std</th>\n",
       "      <td>3.681265e+05</td>\n",
       "      <td>0.924476</td>\n",
       "      <td>0.768462</td>\n",
       "      <td>829.627388</td>\n",
       "      <td>0.138625</td>\n",
       "      <td>0.140857</td>\n",
       "      <td>685.856874</td>\n",
       "    </tr>\n",
       "    <tr>\n",
       "      <th>min</th>\n",
       "      <td>7.800000e+04</td>\n",
       "      <td>1.000000</td>\n",
       "      <td>0.500000</td>\n",
       "      <td>370.000000</td>\n",
       "      <td>47.155900</td>\n",
       "      <td>121.315000</td>\n",
       "      <td>399.000000</td>\n",
       "    </tr>\n",
       "    <tr>\n",
       "      <th>25%</th>\n",
       "      <td>3.249500e+05</td>\n",
       "      <td>3.000000</td>\n",
       "      <td>1.750000</td>\n",
       "      <td>1200.000000</td>\n",
       "      <td>47.471375</td>\n",
       "      <td>122.124000</td>\n",
       "      <td>1490.000000</td>\n",
       "    </tr>\n",
       "    <tr>\n",
       "      <th>50%</th>\n",
       "      <td>4.510000e+05</td>\n",
       "      <td>3.000000</td>\n",
       "      <td>2.250000</td>\n",
       "      <td>1570.000000</td>\n",
       "      <td>47.572500</td>\n",
       "      <td>122.229000</td>\n",
       "      <td>1840.000000</td>\n",
       "    </tr>\n",
       "    <tr>\n",
       "      <th>75%</th>\n",
       "      <td>6.471250e+05</td>\n",
       "      <td>4.000000</td>\n",
       "      <td>2.500000</td>\n",
       "      <td>2220.000000</td>\n",
       "      <td>47.678100</td>\n",
       "      <td>122.328000</td>\n",
       "      <td>2370.000000</td>\n",
       "    </tr>\n",
       "    <tr>\n",
       "      <th>max</th>\n",
       "      <td>7.700000e+06</td>\n",
       "      <td>33.000000</td>\n",
       "      <td>8.000000</td>\n",
       "      <td>9410.000000</td>\n",
       "      <td>47.777600</td>\n",
       "      <td>122.519000</td>\n",
       "      <td>6210.000000</td>\n",
       "    </tr>\n",
       "  </tbody>\n",
       "</table>\n",
       "</div>"
      ],
      "text/plain": [
       "              price      bedrooms     bathrooms    sqft_above           lat  \\\n",
       "count  2.124400e+04  21244.000000  21244.000000  21244.000000  21244.000000   \n",
       "mean   5.423012e+05      3.374694      2.121022   1793.752871     47.560301   \n",
       "std    3.681265e+05      0.924476      0.768462    829.627388      0.138625   \n",
       "min    7.800000e+04      1.000000      0.500000    370.000000     47.155900   \n",
       "25%    3.249500e+05      3.000000      1.750000   1200.000000     47.471375   \n",
       "50%    4.510000e+05      3.000000      2.250000   1570.000000     47.572500   \n",
       "75%    6.471250e+05      4.000000      2.500000   2220.000000     47.678100   \n",
       "max    7.700000e+06     33.000000      8.000000   9410.000000     47.777600   \n",
       "\n",
       "               long  sqft_living15  \n",
       "count  21244.000000   21244.000000  \n",
       "mean     122.213587    1990.133920  \n",
       "std        0.140857     685.856874  \n",
       "min      121.315000     399.000000  \n",
       "25%      122.124000    1490.000000  \n",
       "50%      122.229000    1840.000000  \n",
       "75%      122.328000    2370.000000  \n",
       "max      122.519000    6210.000000  "
      ]
     },
     "execution_count": 55,
     "metadata": {},
     "output_type": "execute_result"
    }
   ],
   "source": [
    "#long is entirely negative values, so I will multiply the column by -1\n",
    "pred_df[\"long\"]=pred_df[\"long\"]*(-1)\n",
    "pred_df.describe()"
   ]
  },
  {
   "cell_type": "code",
   "execution_count": 58,
   "metadata": {},
   "outputs": [],
   "source": [
    "import numpy as np\n",
    "\n",
    "pred_log = pd.DataFrame([])\n",
    "pred_log[\"log_lat\"] = np.log(pred_df[\"lat\"])\n",
    "pred_log[\"log_long\"] = np.log(pred_df[\"long\"])\n",
    "pred_log[\"log_living15\"] = np.log(pred_df[\"sqft_living15\"])\n",
    "pred_log[\"log_above\"]=np.log(pred_df[\"sqft_above\"])\n",
    "pred_log[\"log_price\"] = np.log(pred_df[\"price\"])\n",
    "pred_log[\"log_bed\"] = np.log(pred_df[\"bedrooms\"])\n",
    "pred_log[\"log_bath\"] = np.log(pred_df[\"bathrooms\"])"
   ]
  },
  {
   "cell_type": "markdown",
   "metadata": {},
   "source": [
    "The kurtosis of `price`, `bedrooms`, and `bathrooms` can be managed by using a log normalization.  As they have already been log-transformed, I will normalize `price` by using a standardization."
   ]
  },
  {
   "cell_type": "code",
   "execution_count": 57,
   "metadata": {},
   "outputs": [],
   "source": [
    "lprice=pred_log[\"log_price\"]\n",
    "scaled_price = (lprice-np.mean(lprice))/np.sqrt(np.var(lprice))"
   ]
  },
  {
   "cell_type": "markdown",
   "metadata": {},
   "source": [
    "The effect of outliers in `bedrooms`, `lat`, `bathrooms`, `sqft_above`, and `sqft_living15` can be suppressed by using a min-max scaling."
   ]
  },
  {
   "cell_type": "code",
   "execution_count": 59,
   "metadata": {},
   "outputs": [],
   "source": [
    "lbed=pred_log[\"log_bed\"]\n",
    "llat=pred_log[\"log_lat\"]\n",
    "lbath=pred_log[\"log_bath\"]\n",
    "labove=pred_log[\"log_above\"]\n",
    "ll15=pred_log[\"log_living15\"]\n",
    "\n",
    "\n",
    "scaled_bed = (lbed-min(lbed))/(max(lbed)-min(lbed))\n",
    "scaled_lat = (llat-min(llat))/(max(llat)-min(llat))\n",
    "scaled_bath = (lbath-min(lbath))/(max(lbath)-min(lbath))\n",
    "scaled_above = (lbed-min(labove))/(max(labove)-min(labove))\n",
    "scaled_l15 = (lbed-min(ll15))/(max(ll15)-min(ll15))"
   ]
  },
  {
   "cell_type": "code",
   "execution_count": 60,
   "metadata": {},
   "outputs": [],
   "source": [
    "#add newly-transformed variables to a new dataframe\n",
    "scaled_df = pd.DataFrame([])\n",
    "scaled_df[\"price\"]=scaled_price\n",
    "scaled_df[\"lat\"]=scaled_lat\n",
    "scaled_df[\"long\"]=pred_log[\"log_long\"]\n",
    "scaled_df[\"bathrooms\"]=scaled_bath\n",
    "scaled_df[\"bedrooms\"]=scaled_bed\n",
    "scaled_df[\"sqft_above\"]=scaled_above\n",
    "scaled_df[\"sqft_living15\"]=scaled_l15"
   ]
  },
  {
   "cell_type": "code",
   "execution_count": 48,
   "metadata": {},
   "outputs": [
    {
     "name": "stdout",
     "output_type": "stream",
     "text": [
      "6\n",
      "5\n",
      "11\n",
      "70\n"
     ]
    }
   ],
   "source": [
    "cat_names=[\"floors\",\"condition\",\"grade\",\"zipcode\"]\n",
    "for col in cat_names:\n",
    "    print(pred_df[col].nunique())"
   ]
  },
  {
   "cell_type": "markdown",
   "metadata": {},
   "source": [
    "An OLS regression model could use one-hot-encoded dummy variables for categorical variables.  However, `zipcode` would add almost 70 columns to the dataset, which would increase the runtime of the model.\n",
    "\n",
    "Taking this into consideration, I will drop the zipcode column and only perform one-hot-encoding for the `floors`, `condition`, and `grade` columns."
   ]
  },
  {
   "cell_type": "code",
   "execution_count": 61,
   "metadata": {},
   "outputs": [],
   "source": [
    "#dropping zipcode column\n",
    "pred_df.drop(\"zipcode\",axis=1,inplace=True)"
   ]
  },
  {
   "cell_type": "code",
   "execution_count": 73,
   "metadata": {},
   "outputs": [
    {
     "data": {
      "text/plain": [
       "Index(['grade_3', 'grade_4', 'grade_5', 'grade_6', 'grade_7', 'grade_8',\n",
       "       'grade_9', 'grade_10', 'grade_11', 'grade_12', 'grade_13'],\n",
       "      dtype='object')"
      ]
     },
     "execution_count": 73,
     "metadata": {},
     "output_type": "execute_result"
    }
   ],
   "source": [
    "#creating dummy variables for floors, conditions and grade\n",
    "fl_dummies = pd.get_dummies(pred_df[\"floors\"],prefix=\"flrs\")\n",
    "co_dummies = pd.get_dummies(pred_df[\"condition\"],prefix=\"cond\")\n",
    "gr_dummies=pd.get_dummies(pred_df[\"grade\"],prefix=\"grade\")"
   ]
  },
  {
   "cell_type": "code",
   "execution_count": 74,
   "metadata": {},
   "outputs": [
    {
     "data": {
      "text/html": [
       "<div>\n",
       "<style scoped>\n",
       "    .dataframe tbody tr th:only-of-type {\n",
       "        vertical-align: middle;\n",
       "    }\n",
       "\n",
       "    .dataframe tbody tr th {\n",
       "        vertical-align: top;\n",
       "    }\n",
       "\n",
       "    .dataframe thead th {\n",
       "        text-align: right;\n",
       "    }\n",
       "</style>\n",
       "<table border=\"1\" class=\"dataframe\">\n",
       "  <thead>\n",
       "    <tr style=\"text-align: right;\">\n",
       "      <th></th>\n",
       "      <th>flrs_1.0</th>\n",
       "      <th>flrs_1.5</th>\n",
       "      <th>flrs_2.0</th>\n",
       "      <th>flrs_2.5</th>\n",
       "      <th>flrs_3.0</th>\n",
       "      <th>flrs_3.5</th>\n",
       "      <th>cond_1</th>\n",
       "      <th>cond_2</th>\n",
       "      <th>cond_3</th>\n",
       "      <th>cond_4</th>\n",
       "      <th>...</th>\n",
       "      <th>grade_4</th>\n",
       "      <th>grade_5</th>\n",
       "      <th>grade_6</th>\n",
       "      <th>grade_7</th>\n",
       "      <th>grade_8</th>\n",
       "      <th>grade_9</th>\n",
       "      <th>grade_10</th>\n",
       "      <th>grade_11</th>\n",
       "      <th>grade_12</th>\n",
       "      <th>grade_13</th>\n",
       "    </tr>\n",
       "  </thead>\n",
       "  <tbody>\n",
       "    <tr>\n",
       "      <th>0</th>\n",
       "      <td>1</td>\n",
       "      <td>0</td>\n",
       "      <td>0</td>\n",
       "      <td>0</td>\n",
       "      <td>0</td>\n",
       "      <td>0</td>\n",
       "      <td>0</td>\n",
       "      <td>0</td>\n",
       "      <td>1</td>\n",
       "      <td>0</td>\n",
       "      <td>...</td>\n",
       "      <td>0</td>\n",
       "      <td>0</td>\n",
       "      <td>0</td>\n",
       "      <td>1</td>\n",
       "      <td>0</td>\n",
       "      <td>0</td>\n",
       "      <td>0</td>\n",
       "      <td>0</td>\n",
       "      <td>0</td>\n",
       "      <td>0</td>\n",
       "    </tr>\n",
       "    <tr>\n",
       "      <th>1</th>\n",
       "      <td>0</td>\n",
       "      <td>0</td>\n",
       "      <td>1</td>\n",
       "      <td>0</td>\n",
       "      <td>0</td>\n",
       "      <td>0</td>\n",
       "      <td>0</td>\n",
       "      <td>0</td>\n",
       "      <td>1</td>\n",
       "      <td>0</td>\n",
       "      <td>...</td>\n",
       "      <td>0</td>\n",
       "      <td>0</td>\n",
       "      <td>0</td>\n",
       "      <td>1</td>\n",
       "      <td>0</td>\n",
       "      <td>0</td>\n",
       "      <td>0</td>\n",
       "      <td>0</td>\n",
       "      <td>0</td>\n",
       "      <td>0</td>\n",
       "    </tr>\n",
       "    <tr>\n",
       "      <th>2</th>\n",
       "      <td>1</td>\n",
       "      <td>0</td>\n",
       "      <td>0</td>\n",
       "      <td>0</td>\n",
       "      <td>0</td>\n",
       "      <td>0</td>\n",
       "      <td>0</td>\n",
       "      <td>0</td>\n",
       "      <td>1</td>\n",
       "      <td>0</td>\n",
       "      <td>...</td>\n",
       "      <td>0</td>\n",
       "      <td>0</td>\n",
       "      <td>1</td>\n",
       "      <td>0</td>\n",
       "      <td>0</td>\n",
       "      <td>0</td>\n",
       "      <td>0</td>\n",
       "      <td>0</td>\n",
       "      <td>0</td>\n",
       "      <td>0</td>\n",
       "    </tr>\n",
       "    <tr>\n",
       "      <th>3</th>\n",
       "      <td>1</td>\n",
       "      <td>0</td>\n",
       "      <td>0</td>\n",
       "      <td>0</td>\n",
       "      <td>0</td>\n",
       "      <td>0</td>\n",
       "      <td>0</td>\n",
       "      <td>0</td>\n",
       "      <td>0</td>\n",
       "      <td>0</td>\n",
       "      <td>...</td>\n",
       "      <td>0</td>\n",
       "      <td>0</td>\n",
       "      <td>0</td>\n",
       "      <td>1</td>\n",
       "      <td>0</td>\n",
       "      <td>0</td>\n",
       "      <td>0</td>\n",
       "      <td>0</td>\n",
       "      <td>0</td>\n",
       "      <td>0</td>\n",
       "    </tr>\n",
       "    <tr>\n",
       "      <th>4</th>\n",
       "      <td>1</td>\n",
       "      <td>0</td>\n",
       "      <td>0</td>\n",
       "      <td>0</td>\n",
       "      <td>0</td>\n",
       "      <td>0</td>\n",
       "      <td>0</td>\n",
       "      <td>0</td>\n",
       "      <td>1</td>\n",
       "      <td>0</td>\n",
       "      <td>...</td>\n",
       "      <td>0</td>\n",
       "      <td>0</td>\n",
       "      <td>0</td>\n",
       "      <td>0</td>\n",
       "      <td>1</td>\n",
       "      <td>0</td>\n",
       "      <td>0</td>\n",
       "      <td>0</td>\n",
       "      <td>0</td>\n",
       "      <td>0</td>\n",
       "    </tr>\n",
       "  </tbody>\n",
       "</table>\n",
       "<p>5 rows × 22 columns</p>\n",
       "</div>"
      ],
      "text/plain": [
       "   flrs_1.0  flrs_1.5  flrs_2.0  flrs_2.5  flrs_3.0  flrs_3.5  cond_1  cond_2  \\\n",
       "0         1         0         0         0         0         0       0       0   \n",
       "1         0         0         1         0         0         0       0       0   \n",
       "2         1         0         0         0         0         0       0       0   \n",
       "3         1         0         0         0         0         0       0       0   \n",
       "4         1         0         0         0         0         0       0       0   \n",
       "\n",
       "   cond_3  cond_4    ...     grade_4  grade_5  grade_6  grade_7  grade_8  \\\n",
       "0       1       0    ...           0        0        0        1        0   \n",
       "1       1       0    ...           0        0        0        1        0   \n",
       "2       1       0    ...           0        0        1        0        0   \n",
       "3       0       0    ...           0        0        0        1        0   \n",
       "4       1       0    ...           0        0        0        0        1   \n",
       "\n",
       "   grade_9  grade_10  grade_11  grade_12  grade_13  \n",
       "0        0         0         0         0         0  \n",
       "1        0         0         0         0         0  \n",
       "2        0         0         0         0         0  \n",
       "3        0         0         0         0         0  \n",
       "4        0         0         0         0         0  \n",
       "\n",
       "[5 rows x 22 columns]"
      ]
     },
     "execution_count": 74,
     "metadata": {},
     "output_type": "execute_result"
    }
   ],
   "source": [
    "#combine dummies into dataframe as columns\n",
    "dummy_df = pd.concat([fl_dummies,co_dummies,gr_dummies], axis=1)\n",
    "dummy_df.head()"
   ]
  },
  {
   "cell_type": "code",
   "execution_count": 75,
   "metadata": {},
   "outputs": [
    {
     "data": {
      "text/html": [
       "<div>\n",
       "<style scoped>\n",
       "    .dataframe tbody tr th:only-of-type {\n",
       "        vertical-align: middle;\n",
       "    }\n",
       "\n",
       "    .dataframe tbody tr th {\n",
       "        vertical-align: top;\n",
       "    }\n",
       "\n",
       "    .dataframe thead th {\n",
       "        text-align: right;\n",
       "    }\n",
       "</style>\n",
       "<table border=\"1\" class=\"dataframe\">\n",
       "  <thead>\n",
       "    <tr style=\"text-align: right;\">\n",
       "      <th></th>\n",
       "      <th>price</th>\n",
       "      <th>lat</th>\n",
       "      <th>long</th>\n",
       "      <th>bathrooms</th>\n",
       "      <th>bedrooms</th>\n",
       "      <th>sqft_above</th>\n",
       "      <th>sqft_living15</th>\n",
       "      <th>date</th>\n",
       "      <th>flrs_1.0</th>\n",
       "      <th>flrs_1.5</th>\n",
       "      <th>...</th>\n",
       "      <th>grade_4</th>\n",
       "      <th>grade_5</th>\n",
       "      <th>grade_6</th>\n",
       "      <th>grade_7</th>\n",
       "      <th>grade_8</th>\n",
       "      <th>grade_9</th>\n",
       "      <th>grade_10</th>\n",
       "      <th>grade_11</th>\n",
       "      <th>grade_12</th>\n",
       "      <th>grade_13</th>\n",
       "    </tr>\n",
       "  </thead>\n",
       "  <tbody>\n",
       "    <tr>\n",
       "      <th>0</th>\n",
       "      <td>-1.417865</td>\n",
       "      <td>0.573100</td>\n",
       "      <td>4.806125</td>\n",
       "      <td>0.250000</td>\n",
       "      <td>0.314203</td>\n",
       "      <td>-1.487903</td>\n",
       "      <td>-1.781577</td>\n",
       "      <td>286</td>\n",
       "      <td>1</td>\n",
       "      <td>0</td>\n",
       "      <td>...</td>\n",
       "      <td>0</td>\n",
       "      <td>0</td>\n",
       "      <td>0</td>\n",
       "      <td>1</td>\n",
       "      <td>0</td>\n",
       "      <td>0</td>\n",
       "      <td>0</td>\n",
       "      <td>0</td>\n",
       "      <td>0</td>\n",
       "      <td>0</td>\n",
       "    </tr>\n",
       "    <tr>\n",
       "      <th>1</th>\n",
       "      <td>0.272201</td>\n",
       "      <td>0.909499</td>\n",
       "      <td>4.806632</td>\n",
       "      <td>0.542481</td>\n",
       "      <td>0.314203</td>\n",
       "      <td>-1.487903</td>\n",
       "      <td>-1.781577</td>\n",
       "      <td>343</td>\n",
       "      <td>0</td>\n",
       "      <td>0</td>\n",
       "      <td>...</td>\n",
       "      <td>0</td>\n",
       "      <td>0</td>\n",
       "      <td>0</td>\n",
       "      <td>1</td>\n",
       "      <td>0</td>\n",
       "      <td>0</td>\n",
       "      <td>0</td>\n",
       "      <td>0</td>\n",
       "      <td>0</td>\n",
       "      <td>0</td>\n",
       "    </tr>\n",
       "    <tr>\n",
       "      <th>2</th>\n",
       "      <td>-1.817218</td>\n",
       "      <td>0.936533</td>\n",
       "      <td>4.805929</td>\n",
       "      <td>0.250000</td>\n",
       "      <td>0.198240</td>\n",
       "      <td>-1.613200</td>\n",
       "      <td>-1.929290</td>\n",
       "      <td>56</td>\n",
       "      <td>1</td>\n",
       "      <td>0</td>\n",
       "      <td>...</td>\n",
       "      <td>0</td>\n",
       "      <td>0</td>\n",
       "      <td>1</td>\n",
       "      <td>0</td>\n",
       "      <td>0</td>\n",
       "      <td>0</td>\n",
       "      <td>0</td>\n",
       "      <td>0</td>\n",
       "      <td>0</td>\n",
       "      <td>0</td>\n",
       "    </tr>\n",
       "    <tr>\n",
       "      <th>3</th>\n",
       "      <td>0.493023</td>\n",
       "      <td>0.588526</td>\n",
       "      <td>4.807237</td>\n",
       "      <td>0.646241</td>\n",
       "      <td>0.396480</td>\n",
       "      <td>-1.399003</td>\n",
       "      <td>-1.676773</td>\n",
       "      <td>343</td>\n",
       "      <td>1</td>\n",
       "      <td>0</td>\n",
       "      <td>...</td>\n",
       "      <td>0</td>\n",
       "      <td>0</td>\n",
       "      <td>0</td>\n",
       "      <td>1</td>\n",
       "      <td>0</td>\n",
       "      <td>0</td>\n",
       "      <td>0</td>\n",
       "      <td>0</td>\n",
       "      <td>0</td>\n",
       "      <td>0</td>\n",
       "    </tr>\n",
       "    <tr>\n",
       "      <th>4</th>\n",
       "      <td>0.170205</td>\n",
       "      <td>0.742607</td>\n",
       "      <td>4.804390</td>\n",
       "      <td>0.500000</td>\n",
       "      <td>0.314203</td>\n",
       "      <td>-1.487903</td>\n",
       "      <td>-1.781577</td>\n",
       "      <td>49</td>\n",
       "      <td>1</td>\n",
       "      <td>0</td>\n",
       "      <td>...</td>\n",
       "      <td>0</td>\n",
       "      <td>0</td>\n",
       "      <td>0</td>\n",
       "      <td>0</td>\n",
       "      <td>1</td>\n",
       "      <td>0</td>\n",
       "      <td>0</td>\n",
       "      <td>0</td>\n",
       "      <td>0</td>\n",
       "      <td>0</td>\n",
       "    </tr>\n",
       "  </tbody>\n",
       "</table>\n",
       "<p>5 rows × 30 columns</p>\n",
       "</div>"
      ],
      "text/plain": [
       "      price       lat      long  bathrooms  bedrooms  sqft_above  \\\n",
       "0 -1.417865  0.573100  4.806125   0.250000  0.314203   -1.487903   \n",
       "1  0.272201  0.909499  4.806632   0.542481  0.314203   -1.487903   \n",
       "2 -1.817218  0.936533  4.805929   0.250000  0.198240   -1.613200   \n",
       "3  0.493023  0.588526  4.807237   0.646241  0.396480   -1.399003   \n",
       "4  0.170205  0.742607  4.804390   0.500000  0.314203   -1.487903   \n",
       "\n",
       "   sqft_living15  date  flrs_1.0  flrs_1.5    ...     grade_4  grade_5  \\\n",
       "0      -1.781577   286         1         0    ...           0        0   \n",
       "1      -1.781577   343         0         0    ...           0        0   \n",
       "2      -1.929290    56         1         0    ...           0        0   \n",
       "3      -1.676773   343         1         0    ...           0        0   \n",
       "4      -1.781577    49         1         0    ...           0        0   \n",
       "\n",
       "   grade_6  grade_7  grade_8  grade_9  grade_10  grade_11  grade_12  grade_13  \n",
       "0        0        1        0        0         0         0         0         0  \n",
       "1        0        1        0        0         0         0         0         0  \n",
       "2        1        0        0        0         0         0         0         0  \n",
       "3        0        1        0        0         0         0         0         0  \n",
       "4        0        0        1        0         0         0         0         0  \n",
       "\n",
       "[5 rows x 30 columns]"
      ]
     },
     "execution_count": 75,
     "metadata": {},
     "output_type": "execute_result"
    }
   ],
   "source": [
    "#new DataFrame with dummy columns, transformed values, and date as day_of_year\n",
    "date_as_day=pred_df[\"date\"].dt.dayofyear\n",
    "pred2_df=pd.concat([scaled_df,date_as_day,dummy_df],axis=1)\n",
    "pred2_df.head()"
   ]
  },
  {
   "cell_type": "markdown",
   "metadata": {},
   "source": [
    "## Explore 2\n",
    "I will look again at multicollinearity and double-check the data meets assumptions of normality, linearity and heteroscedasticity sufficiently for regression."
   ]
  },
  {
   "cell_type": "code",
   "execution_count": null,
   "metadata": {},
   "outputs": [],
   "source": [
    "pred2_df.describe()"
   ]
  },
  {
   "cell_type": "code",
   "execution_count": null,
   "metadata": {},
   "outputs": [],
   "source": [
    "pred_cols = [\"lat\",\"long\",\"bathrooms\",\"bedrooms\",\"sqft_living15\",\"date\"]"
   ]
  },
  {
   "cell_type": "code",
   "execution_count": null,
   "metadata": {},
   "outputs": [],
   "source": [
    "import seaborn as sns\n",
    "for col_name in pred_cols:#using only continuous variables\n",
    "    sns.jointplot(x= col_name, y= 'price', data=pred2_df, kind=\"reg\",label=col_name)\n",
    "    plt.show()"
   ]
  },
  {
   "cell_type": "markdown",
   "metadata": {},
   "source": [
    "### Question: Does a house located near another house for sale have a higher price?\n",
    "\n",
    "Null hypothesis: A house located within .01 latitude or longitude of another house has a sale price for an insignificantly different amount of money. (.01 degree of longitude at the latitude 47$^o$ is equivalent to x kilometers/meters . . .)\n",
    "Alternate hypothesis: Proximity to other houses that sold significantly increases or decreases the sale price of a house."
   ]
  },
  {
   "cell_type": "markdown",
   "metadata": {},
   "source": [
    "More than one column indicates where a house is located: `zipcode`, and `lat` and `long`. `lat` and `long` would be more precise measures of distance, but I will determine whether any have a correlation to price."
   ]
  },
  {
   "cell_type": "code",
   "execution_count": null,
   "metadata": {},
   "outputs": [],
   "source": [
    "import math\n",
    "def pyth(x1,y1,x2,y2):\n",
    "    x=x2-x1\n",
    "    y=y2-y1\n",
    "    return math.sqrt((x**2)+(y**2))\n",
    "\n",
    "pyth(1,2,4,6)#testing function"
   ]
  },
  {
   "cell_type": "markdown",
   "metadata": {},
   "source": [
    "First, I'll look at the scatterplot of the latitude and longitude values."
   ]
  },
  {
   "cell_type": "code",
   "execution_count": null,
   "metadata": {},
   "outputs": [],
   "source": [
    "import matplotlib.pyplot as plt\n",
    "import numpy as np\n",
    "%matplotlib inline\n",
    "x = loc_df.long\n",
    "y = loc_df.lat\n",
    "plt.style.use(\"seaborn\")\n",
    "plt.scatter(x,y)\n",
    "plt.show()"
   ]
  },
  {
   "cell_type": "code",
   "execution_count": null,
   "metadata": {
    "scrolled": true
   },
   "outputs": [],
   "source": [
    "#creating a shortest distance column\n",
    "loc_df[\"distance\"]=0"
   ]
  },
  {
   "cell_type": "code",
   "execution_count": null,
   "metadata": {},
   "outputs": [],
   "source": [
    "#generating the values for the distance column\n",
    "vals=len(loc_df.lat)\n",
    "dist=pyth(min(loc_df.lat),min(loc_df.long),max(loc_df.lat),max(loc_df.long))#the farthest away any two could be\n",
    "\n",
    "for i in range(0,vals):#cycling through the DataFrame\n",
    "        lat1=loc_df.loc[i,\"lat\"]\n",
    "        long1=loc_df.loc[i,\"long\"]\n",
    "        #taking the ith lat and long values\n",
    "                \n",
    "        for j in range(0,vals):\n",
    "            if i == j:#not look at where i=j\n",
    "                continue#on to next value of j\n",
    "            lat2=loc_df.loc[j,\"lat\"]\n",
    "            long2=loc_df.loc[j,\"long\"]\n",
    "            new_dist=pyth(lat1,long1,lat2,long2)\n",
    "            dist=min(dist,new_dist)#comparing newly-calculated distance and selecting the smaller\n",
    "        \n",
    "        loc_df.loc[i,\"distance\"]=dist\n",
    "        if i == 30:\n",
    "            print(\"made it to 30!\")\n",
    "        elif i == 600:\n",
    "            print(\"this is 600\")\n",
    "        elif i==1100:\n",
    "            print(\"still going at 1100\")\n",
    "        elif i ==2000:\n",
    "            print(\"home stretch at 2000\")\n",
    "#NB: this could take more than a few minutes"
   ]
  },
  {
   "cell_type": "code",
   "execution_count": null,
   "metadata": {},
   "outputs": [],
   "source": [
    "loc_df.describe()"
   ]
  },
  {
   "cell_type": "code",
   "execution_count": null,
   "metadata": {},
   "outputs": [],
   "source": [
    "loc_600.hist(figsize=(15,12))#was for the first 600 rows"
   ]
  },
  {
   "cell_type": "markdown",
   "metadata": {},
   "source": [
    "## Model\n",
    "I use RFE and OLS to see which columns from the dataset best predict price."
   ]
  },
  {
   "cell_type": "markdown",
   "metadata": {},
   "source": [
    "## Interpret\n",
    "A concluding paragraph of how my model predicts house prices in the dataset."
   ]
  },
  {
   "cell_type": "markdown",
   "metadata": {},
   "source": [
    "My final model is like this:\n",
    "\n",
    "The three coefficients that impact the price of a house in the King County dataset in these ways:"
   ]
  },
  {
   "cell_type": "code",
   "execution_count": null,
   "metadata": {},
   "outputs": [],
   "source": []
  },
  {
   "cell_type": "code",
   "execution_count": null,
   "metadata": {},
   "outputs": [],
   "source": []
  },
  {
   "cell_type": "code",
   "execution_count": null,
   "metadata": {},
   "outputs": [],
   "source": []
  },
  {
   "cell_type": "code",
   "execution_count": null,
   "metadata": {},
   "outputs": [],
   "source": []
  }
 ],
 "metadata": {
  "kernelspec": {
   "display_name": "Python 3",
   "language": "python",
   "name": "python3"
  },
  "language_info": {
   "codemirror_mode": {
    "name": "ipython",
    "version": 3
   },
   "file_extension": ".py",
   "mimetype": "text/x-python",
   "name": "python",
   "nbconvert_exporter": "python",
   "pygments_lexer": "ipython3",
   "version": "3.6.5"
  }
 },
 "nbformat": 4,
 "nbformat_minor": 2
}
